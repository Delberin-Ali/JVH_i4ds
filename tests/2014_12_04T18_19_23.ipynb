{
 "cells": [
  {
   "cell_type": "code",
   "execution_count": 1,
   "metadata": {},
   "outputs": [],
   "source": [
    "%matplotlib inline\n",
    "from matplotlib import pyplot as plt\n",
    "\n",
    "import sunpy.map\n",
    "from aiapy.calibrate.prep import register as aiaprep  # sunpy.instr.aia.aiaprep was moved to aiapy\n",
    "from sunpy.net import Fido, attrs as a\n",
    "from astropy import units as u\n",
    "\n",
    "import glob\n",
    "import numpy as np\n",
    "\n",
    "import warnings\n",
    "warnings.filterwarnings(\"ignore\")"
   ]
  },
  {
   "cell_type": "code",
   "execution_count": 2,
   "metadata": {},
   "outputs": [],
   "source": [
    "# manual inputs\n",
    "t = a.Time('2014-04-18T18:19:04', '2014-04-18T19:15:54')\n",
    "\n",
    "folder = '/Users/delbe/OneDrive - FHNW/aia_data/2014_12_04T18_19_04'\n",
    "# folder_iris = \"../../../../cr_obs3/20140418_123338_3820259153/Si IV 1400\"\n",
    "p1 = [1420,1353]  # x,y of p1 (begin of slit in AIA coordinates)\n",
    "p2 = [1422,1255]  # x,y of p2 (end of slit in AIA coordinates)"
   ]
  },
  {
   "cell_type": "code",
   "execution_count": 3,
   "metadata": {},
   "outputs": [],
   "source": [
    "# search for aia sources\n",
    "result = Fido.search(t, a.Instrument(\"aia\"), a.Wavelength(304*u.angstrom), a.Sample(1*u.second))"
   ]
  },
  {
   "cell_type": "code",
   "execution_count": 4,
   "metadata": {},
   "outputs": [
    {
     "data": {
      "text/html": [
       "Results from 1 Provider:</br></br>284 Results from the VSOClient:</br><div><i>VSOQueryResponseTable length=284</i>\n",
       "<table id=\"table2595877768784\" class=\"table-striped table-bordered table-condensed\">\n",
       "<thead><tr><th>Start Time</th><th>End Time</th><th>Source</th><th>Instrument</th><th>Wavelength [2]</th><th>Provider</th><th>Physobs</th><th>Wavetype</th><th>Extent Width</th><th>Extent Length</th><th>Extent Type</th><th>Size</th><th>Info</th></tr></thead>\n",
       "<thead><tr><th></th><th></th><th></th><th></th><th>Angstrom</th><th></th><th></th><th></th><th></th><th></th><th></th><th>Mibyte</th><th></th></tr></thead>\n",
       "<thead><tr><th>object</th><th>object</th><th>str3</th><th>str3</th><th>float64</th><th>str4</th><th>str9</th><th>str6</th><th>str4</th><th>str4</th><th>str8</th><th>float64</th><th>str57</th></tr></thead>\n",
       "<tr><td>2014-04-18 18:19:07.000</td><td>2014-04-18 18:19:08.000</td><td>SDO</td><td>AIA</td><td>304.0 .. 304.0</td><td>JSOC</td><td>intensity</td><td>NARROW</td><td>4096</td><td>4096</td><td>FULLDISK</td><td>64.64844</td><td>AIA level 1, 4096x4096 [2.902 exposure] [100.00 percentd]</td></tr>\n",
       "<tr><td>2014-04-18 18:19:19.000</td><td>2014-04-18 18:19:20.000</td><td>SDO</td><td>AIA</td><td>304.0 .. 304.0</td><td>JSOC</td><td>intensity</td><td>NARROW</td><td>4096</td><td>4096</td><td>FULLDISK</td><td>64.64844</td><td>AIA level 1, 4096x4096 [2.902 exposure] [100.00 percentd]</td></tr>\n",
       "<tr><td>2014-04-18 18:19:31.000</td><td>2014-04-18 18:19:32.000</td><td>SDO</td><td>AIA</td><td>304.0 .. 304.0</td><td>JSOC</td><td>intensity</td><td>NARROW</td><td>4096</td><td>4096</td><td>FULLDISK</td><td>64.64844</td><td>AIA level 1, 4096x4096 [2.902 exposure] [100.00 percentd]</td></tr>\n",
       "<tr><td>2014-04-18 18:19:43.000</td><td>2014-04-18 18:19:44.000</td><td>SDO</td><td>AIA</td><td>304.0 .. 304.0</td><td>JSOC</td><td>intensity</td><td>NARROW</td><td>4096</td><td>4096</td><td>FULLDISK</td><td>64.64844</td><td>AIA level 1, 4096x4096 [2.902 exposure] [100.00 percentd]</td></tr>\n",
       "<tr><td>2014-04-18 18:19:55.000</td><td>2014-04-18 18:19:56.000</td><td>SDO</td><td>AIA</td><td>304.0 .. 304.0</td><td>JSOC</td><td>intensity</td><td>NARROW</td><td>4096</td><td>4096</td><td>FULLDISK</td><td>64.64844</td><td>AIA level 1, 4096x4096 [2.902 exposure] [100.00 percentd]</td></tr>\n",
       "<tr><td>2014-04-18 18:20:07.000</td><td>2014-04-18 18:20:08.000</td><td>SDO</td><td>AIA</td><td>304.0 .. 304.0</td><td>JSOC</td><td>intensity</td><td>NARROW</td><td>4096</td><td>4096</td><td>FULLDISK</td><td>64.64844</td><td>AIA level 1, 4096x4096 [2.902 exposure] [100.00 percentd]</td></tr>\n",
       "<tr><td>2014-04-18 18:20:19.000</td><td>2014-04-18 18:20:20.000</td><td>SDO</td><td>AIA</td><td>304.0 .. 304.0</td><td>JSOC</td><td>intensity</td><td>NARROW</td><td>4096</td><td>4096</td><td>FULLDISK</td><td>64.64844</td><td>AIA level 1, 4096x4096 [2.902 exposure] [100.00 percentd]</td></tr>\n",
       "<tr><td>2014-04-18 18:20:31.000</td><td>2014-04-18 18:20:32.000</td><td>SDO</td><td>AIA</td><td>304.0 .. 304.0</td><td>JSOC</td><td>intensity</td><td>NARROW</td><td>4096</td><td>4096</td><td>FULLDISK</td><td>64.64844</td><td>AIA level 1, 4096x4096 [2.902 exposure] [100.00 percentd]</td></tr>\n",
       "<tr><td>2014-04-18 18:20:43.000</td><td>2014-04-18 18:20:44.000</td><td>SDO</td><td>AIA</td><td>304.0 .. 304.0</td><td>JSOC</td><td>intensity</td><td>NARROW</td><td>4096</td><td>4096</td><td>FULLDISK</td><td>64.64844</td><td>AIA level 1, 4096x4096 [2.902 exposure] [100.00 percentd]</td></tr>\n",
       "<tr><td>...</td><td>...</td><td>...</td><td>...</td><td>...</td><td>...</td><td>...</td><td>...</td><td>...</td><td>...</td><td>...</td><td>...</td><td>...</td></tr>\n",
       "<tr><td>2014-04-18 19:13:55.000</td><td>2014-04-18 19:13:56.000</td><td>SDO</td><td>AIA</td><td>304.0 .. 304.0</td><td>JSOC</td><td>intensity</td><td>NARROW</td><td>4096</td><td>4096</td><td>FULLDISK</td><td>64.64844</td><td>AIA level 1, 4096x4096 [2.902 exposure] [100.00 percentd]</td></tr>\n",
       "<tr><td>2014-04-18 19:14:07.000</td><td>2014-04-18 19:14:08.000</td><td>SDO</td><td>AIA</td><td>304.0 .. 304.0</td><td>JSOC</td><td>intensity</td><td>NARROW</td><td>4096</td><td>4096</td><td>FULLDISK</td><td>64.64844</td><td>AIA level 1, 4096x4096 [2.902 exposure] [100.00 percentd]</td></tr>\n",
       "<tr><td>2014-04-18 19:14:19.000</td><td>2014-04-18 19:14:20.000</td><td>SDO</td><td>AIA</td><td>304.0 .. 304.0</td><td>JSOC</td><td>intensity</td><td>NARROW</td><td>4096</td><td>4096</td><td>FULLDISK</td><td>64.64844</td><td>AIA level 1, 4096x4096 [2.902 exposure] [100.00 percentd]</td></tr>\n",
       "<tr><td>2014-04-18 19:14:31.000</td><td>2014-04-18 19:14:32.000</td><td>SDO</td><td>AIA</td><td>304.0 .. 304.0</td><td>JSOC</td><td>intensity</td><td>NARROW</td><td>4096</td><td>4096</td><td>FULLDISK</td><td>64.64844</td><td>AIA level 1, 4096x4096 [2.902 exposure] [100.00 percentd]</td></tr>\n",
       "<tr><td>2014-04-18 19:14:43.000</td><td>2014-04-18 19:14:44.000</td><td>SDO</td><td>AIA</td><td>304.0 .. 304.0</td><td>JSOC</td><td>intensity</td><td>NARROW</td><td>4096</td><td>4096</td><td>FULLDISK</td><td>64.64844</td><td>AIA level 1, 4096x4096 [2.902 exposure] [100.00 percentd]</td></tr>\n",
       "<tr><td>2014-04-18 19:14:55.000</td><td>2014-04-18 19:14:56.000</td><td>SDO</td><td>AIA</td><td>304.0 .. 304.0</td><td>JSOC</td><td>intensity</td><td>NARROW</td><td>4096</td><td>4096</td><td>FULLDISK</td><td>64.64844</td><td>AIA level 1, 4096x4096 [2.902 exposure] [100.00 percentd]</td></tr>\n",
       "<tr><td>2014-04-18 19:15:07.000</td><td>2014-04-18 19:15:08.000</td><td>SDO</td><td>AIA</td><td>304.0 .. 304.0</td><td>JSOC</td><td>intensity</td><td>NARROW</td><td>4096</td><td>4096</td><td>FULLDISK</td><td>64.64844</td><td>AIA level 1, 4096x4096 [2.902 exposure] [100.00 percentd]</td></tr>\n",
       "<tr><td>2014-04-18 19:15:19.000</td><td>2014-04-18 19:15:20.000</td><td>SDO</td><td>AIA</td><td>304.0 .. 304.0</td><td>JSOC</td><td>intensity</td><td>NARROW</td><td>4096</td><td>4096</td><td>FULLDISK</td><td>64.64844</td><td>AIA level 1, 4096x4096 [2.902 exposure] [100.00 percentd]</td></tr>\n",
       "<tr><td>2014-04-18 19:15:31.000</td><td>2014-04-18 19:15:32.000</td><td>SDO</td><td>AIA</td><td>304.0 .. 304.0</td><td>JSOC</td><td>intensity</td><td>NARROW</td><td>4096</td><td>4096</td><td>FULLDISK</td><td>64.64844</td><td>AIA level 1, 4096x4096 [2.902 exposure] [100.00 percentd]</td></tr>\n",
       "<tr><td>2014-04-18 19:15:43.000</td><td>2014-04-18 19:15:44.000</td><td>SDO</td><td>AIA</td><td>304.0 .. 304.0</td><td>JSOC</td><td>intensity</td><td>NARROW</td><td>4096</td><td>4096</td><td>FULLDISK</td><td>64.64844</td><td>AIA level 1, 4096x4096 [2.902 exposure] [100.00 percentd]</td></tr>\n",
       "</table></div></br>"
      ],
      "text/plain": [
       "<sunpy.net.fido_factory.UnifiedResponse object at 0x0000025C660B26A0>\n",
       "Results from 1 Provider:\n",
       "\n",
       "284 Results from the VSOClient:\n",
       "       Start Time       ...\n",
       "                        ...\n",
       "----------------------- ...\n",
       "2014-04-18 18:19:07.000 ...\n",
       "2014-04-18 18:19:19.000 ...\n",
       "2014-04-18 18:19:31.000 ...\n",
       "2014-04-18 18:19:43.000 ...\n",
       "2014-04-18 18:19:55.000 ...\n",
       "2014-04-18 18:20:07.000 ...\n",
       "2014-04-18 18:20:19.000 ...\n",
       "2014-04-18 18:20:31.000 ...\n",
       "2014-04-18 18:20:43.000 ...\n",
       "2014-04-18 18:20:55.000 ...\n",
       "                    ... ...\n",
       "2014-04-18 19:13:55.000 ...\n",
       "2014-04-18 19:14:07.000 ...\n",
       "2014-04-18 19:14:19.000 ...\n",
       "2014-04-18 19:14:31.000 ...\n",
       "2014-04-18 19:14:43.000 ...\n",
       "2014-04-18 19:14:55.000 ...\n",
       "2014-04-18 19:15:07.000 ...\n",
       "2014-04-18 19:15:19.000 ...\n",
       "2014-04-18 19:15:31.000 ...\n",
       "2014-04-18 19:15:43.000 ...\n",
       "Length = 284 rows\n"
      ]
     },
     "execution_count": 4,
     "metadata": {},
     "output_type": "execute_result"
    }
   ],
   "source": [
    "result"
   ]
  },
  {
   "cell_type": "code",
   "execution_count": null,
   "metadata": {},
   "outputs": [],
   "source": [
    "# download files, skip if already downloaded\n",
    "# Fido.fetch(result, path=folder)"
   ]
  },
  {
   "cell_type": "code",
   "execution_count": 6,
   "metadata": {},
   "outputs": [],
   "source": [
    "# get downloaded files\n",
    "files = glob.glob(folder + '/*')\n",
    "for file in files:print(file)"
   ]
  },
  {
   "cell_type": "code",
   "execution_count": null,
   "metadata": {},
   "outputs": [],
   "source": [
    "# This should be modified in such a way that it reads the input from the excel sheet and calculates all the images. \n",
    "\n",
    "gradient = (p2[1]-p1[1])/(p2[0]-p1[0])\n",
    "origin = p1[1] - gradient * p1[0]\n",
    "\n",
    "# x = np.linspace(p1[0], p2[0], 200)  # 200 = slit-size in pixels?\n",
    "# y = (gradient*x + origin)\n",
    "# coords = (np.column_stack((x.astype(int),y.astype(int))))\n",
    "\n",
    "# alternative way to get coordinates - assuming slit is always (almost) vertical\n",
    "y = np.arange(min(p1[1], p2[1]),max(p1[1], p2[1])+1)\n",
    "x = (y - origin) / gradient\n",
    "coords = (np.column_stack((x.round().astype(int),y.astype(int))))\n",
    "print(coords)\n",
    "final_image = []\n",
    "\n",
    "for i in range(0,len(files)-1):\n",
    "    \n",
    "# for i in range(0,100):\n",
    "    \n",
    "    if i%10 == 0:\n",
    "        print(i, end=',')\n",
    "        \n",
    "    \n",
    "    try:         \n",
    "        aia1 = sunpy.map.Map(files[i])\n",
    "        \n",
    "    except: \n",
    "        \n",
    "        continue\n",
    "        \n",
    "    aia = aiaprep(aia1)\n",
    "    \n",
    "    zi = np.flipud(aia.data.T)[coords[:,1], coords[:,0]]\n",
    "   \n",
    "    \n",
    "    if len(final_image) == 0: \n",
    "        final_image = zi \n",
    "    else:\n",
    "        final_image = np.vstack([final_image, data])\n",
    "\n",
    "        \n",
    "# plt.figure(figsize=[15,10]) # on this image, we should see the downflows.\n",
    "# plt.imshow(final_image.transpose()) # Please adapt the axes for the correct annotation (y-solar coordinates and x-time)"
   ]
  }
 ],
 "metadata": {
  "kernelspec": {
   "display_name": "Python 3 (ipykernel)",
   "language": "python",
   "name": "python3"
  },
  "language_info": {
   "codemirror_mode": {
    "name": "ipython",
    "version": 3
   },
   "file_extension": ".py",
   "mimetype": "text/x-python",
   "name": "python",
   "nbconvert_exporter": "python",
   "pygments_lexer": "ipython3",
   "version": "3.9.13"
  }
 },
 "nbformat": 4,
 "nbformat_minor": 4
}
