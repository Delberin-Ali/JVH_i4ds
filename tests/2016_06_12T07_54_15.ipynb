{
 "cells": [
  {
   "cell_type": "code",
   "execution_count": null,
   "id": "7c01e4e8",
   "metadata": {},
   "outputs": [],
   "source": [
    "%matplotlib inline\n",
    "from matplotlib import pyplot as plt\n",
    "\n",
    "import sunpy.map\n",
    "from aiapy.calibrate.prep import register as aiaprep  # sunpy.instr.aia.aiaprep was moved to aiapy\n",
    "from sunpy.net import Fido, attrs as a\n",
    "from astropy import units as u\n",
    "\n",
    "import glob\n",
    "import numpy as np\n",
    "\n",
    "import warnings\n",
    "warnings.filterwarnings(\"ignore\")\n",
    "\n",
    "\n",
    "#https://github.com/tqdm/tqdm/issues/481\n",
    "#disable the monitor thread\n",
    "from tqdm import tqdm\n",
    "tqdm.monitor_interval = 0"
   ]
  },
  {
   "cell_type": "code",
   "execution_count": null,
   "id": "f1e158a9",
   "metadata": {},
   "outputs": [],
   "source": [
    "t = a.Time('2016-06-12T07:54:15', '2016-06-12T11:43:38')\n",
    "\n",
    "folder = '/Users/delbe/OneDrive - FHNW/aia_data/test'\n",
    "# folder_iris = \"../../../../cr_obs3/20140418_123338_3820259153/Si IV 1400\"\n",
    "p1 = [780,2277]  # x,y of p1 (begin of slit in AIA coordinates)\n",
    "p2 = [781,2180]  # x,y of p2 (end of slit in AIA coordinates)"
   ]
  },
  {
   "cell_type": "code",
   "execution_count": null,
   "id": "40294691",
   "metadata": {},
   "outputs": [],
   "source": [
    "# search for aia sources\n",
    "result = Fido.search(t, a.Instrument(\"aia\"), a.Wavelength(304*u.angstrom), a.Sample(1*u.second))"
   ]
  },
  {
   "cell_type": "code",
   "execution_count": null,
   "id": "b443f73c",
   "metadata": {},
   "outputs": [],
   "source": [
    "# download files, skip if already downloaded\n",
    "Fido.fetch(result, path=folder)"
   ]
  },
  {
   "cell_type": "code",
   "execution_count": null,
   "id": "325ec839",
   "metadata": {},
   "outputs": [],
   "source": [
    "# get downloaded files\n",
    "files = glob.glob(folder + '/*')"
   ]
  },
  {
   "cell_type": "code",
   "execution_count": null,
   "id": "ed1a9fe6",
   "metadata": {},
   "outputs": [],
   "source": [
    "# This should be modified in such a way that it reads the input from the excel sheet and calculates all the images. \n",
    "\n",
    "gradient = (p2[1]-p1[1])/(p2[0]-p1[0])\n",
    "origin = p1[1] - gradient * p1[0]\n",
    "\n",
    "# x = np.linspace(p1[0], p2[0], 200)  # 200 = slit-size in pixels?\n",
    "# y = (gradient*x + origin)\n",
    "# coords = (np.column_stack((x.astype(int),y.astype(int))))\n",
    "\n",
    "# alternative way to get coordinates - assuming slit is always (almost) vertical\n",
    "y = np.arange(min(p1[1], p2[1]),max(p1[1], p2[1])+1)\n",
    "x = (y - origin) / gradient\n",
    "coords = (np.column_stack((x.round().astype(int),y.astype(int))))\n",
    "\n",
    "final_image = []\n",
    "\n",
    "for i in range(0,len(files)-1):\n",
    "# for i in range(0,100):\n",
    "    \n",
    "    if i%10 == 0:\n",
    "        print(i, end=',')\n",
    "    \n",
    "    try:         \n",
    "        aia1 = sunpy.map.Map(files[i])\n",
    "    except: \n",
    "        continue\n",
    "        \n",
    "    aia = aiaprep(aia1)\n",
    "    \n",
    "    zi = np.flipud(aia.data.T)[coords[:,1], coords[:,0]]\n",
    "    \n",
    "    if len(final_image) == 0: \n",
    "        final_image = zi \n",
    "    else:\n",
    "        final_image = np.vstack([final_image, zi])\n",
    "\n",
    "plt.figure(figsize=[30,10]) # on this image, we should see the downflows.\n",
    "plt.imshow(final_image.transpose()) # Please adapt the axes for the correct annotation (y-solar coordinates and x-time)"
   ]
  },
  {
   "cell_type": "code",
   "execution_count": null,
   "id": "8b7ebff4",
   "metadata": {},
   "outputs": [],
   "source": [
    "plt.figure(figsize=(30,10))\n",
    "plt.imshow(np.log(final_image.transpose()))"
   ]
  },
  {
   "cell_type": "code",
   "execution_count": null,
   "id": "8e98e313-bb6b-4aea-8b24-a3d3bc9d4acf",
   "metadata": {},
   "outputs": [],
   "source": [
    "plt.figure(figsize=[45,25]) \n",
    "plt.imshow(final_image.transpose()) \n",
    "plt.title(aia.date.isot, c = \"red\")\n",
    "plt.show()"
   ]
  },
  {
   "cell_type": "code",
   "execution_count": null,
   "id": "c6328b4f",
   "metadata": {},
   "outputs": [],
   "source": [
    "# draw AIA context around slit\n",
    "\n",
    "x, y = (p1[0] + p2[0])//2, (p1[1] + p2[1])//2\n",
    "dy = abs(p1[1] - p2[1]) * 2\n",
    "\n",
    "plt.figure(figsize=(12,12))\n",
    "\n",
    "aia = aiaprep(sunpy.map.Map(files[0]))\n",
    "plt.subplot(1, 3, 1)\n",
    "plt.title(aia.date.isot)\n",
    "im = np.flipud(aia.data.T)[y-dy:y+dy, x-dy:x+dy]\n",
    "plt.plot([p1[0]-x+dy, p2[0]-x+dy], [p1[1]-y+dy, p2[1]-y+dy], color=\"red\", linewidth=1)\n",
    "plt.imshow(im)\n",
    "        \n",
    "aia = aiaprep(sunpy.map.Map(files[len(files) // 2]))\n",
    "plt.subplot(1, 3, 2)\n",
    "plt.title(aia.date.isot)\n",
    "im = np.flipud(aia.data.T)[y-dy:y+dy, x-dy:x+dy]\n",
    "plt.plot([p1[0]-x+dy, p2[0]-x+dy], [p1[1]-y+dy, p2[1]-y+dy], color=\"red\", linewidth=1)\n",
    "plt.imshow(im)\n",
    "\n",
    "aia = aiaprep(sunpy.map.Map(files[-1]))\n",
    "plt.subplot(1, 3, 3)\n",
    "plt.title(aia.date.isot)\n",
    "im = np.flipud(aia.data.T)[y-dy:y+dy, x-dy:x+dy]\n",
    "plt.plot([p1[0]-x+dy, p2[0]-x+dy], [p1[1]-y+dy, p2[1]-y+dy], color=\"red\", linewidth=1)\n",
    "plt.imshow(im)"
   ]
  },
  {
   "cell_type": "code",
   "execution_count": null,
   "id": "3ef9e249-1032-4e04-becb-d23f28d3a3e3",
   "metadata": {},
   "outputs": [],
   "source": [
    "plt.figure(figsize=(30,10))\n",
    "plt.imshow(final_image.transpose())\n",
    "plt.title(aia.date.isot)\n",
    "plt.show()\n",
    "# plt.title(aia1.fits_header['DATE-OBS'])\n",
    "# plt.title(aia1.date.value)"
   ]
  },
  {
   "cell_type": "code",
   "execution_count": null,
   "id": "87647f9d-0835-49d1-a06e-4fe369a1c8bf",
   "metadata": {},
   "outputs": [],
   "source": [
    "aia.date.isot"
   ]
  },
  {
   "cell_type": "code",
   "execution_count": null,
   "id": "bccba86a-bbf1-4e44-a368-47953253d6c8",
   "metadata": {},
   "outputs": [],
   "source": [
    "print(result[0][\"Start Time\"])"
   ]
  },
  {
   "cell_type": "code",
   "execution_count": null,
   "id": "e975bf48-a0e1-49c7-ad97-526872ed9c33",
   "metadata": {},
   "outputs": [],
   "source": [
    "print(result[0][\"End Time\"])"
   ]
  },
  {
   "cell_type": "code",
   "execution_count": null,
   "id": "7dc014f7-8724-434c-8f79-e5b1cea52270",
   "metadata": {},
   "outputs": [],
   "source": [
    "list_obs = [('2016-06-12T07:54:15', '2016-06-12T11:43:38'),('2014-04-18T12:33:38', '2014-04-18T17:18:01')]\n",
    "\n",
    "for i in list_obs:\n",
    "    print(i)"
   ]
  }
 ],
 "metadata": {
  "kernelspec": {
   "display_name": "Python 3 (ipykernel)",
   "language": "python",
   "name": "python3"
  },
  "language_info": {
   "codemirror_mode": {
    "name": "ipython",
    "version": 3
   },
   "file_extension": ".py",
   "mimetype": "text/x-python",
   "name": "python",
   "nbconvert_exporter": "python",
   "pygments_lexer": "ipython3",
   "version": "3.9.13"
  }
 },
 "nbformat": 4,
 "nbformat_minor": 5
}
