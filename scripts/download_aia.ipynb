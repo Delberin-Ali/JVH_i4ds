{
 "cells": [
  {
   "cell_type": "code",
   "execution_count": 1,
   "id": "f112a889-afbc-4b09-96da-8ce85f85b784",
   "metadata": {},
   "outputs": [],
   "source": [
    "%matplotlib inline\n",
    "from matplotlib import pyplot as plt\n",
    "\n",
    "import sunpy.map\n",
    "from aiapy.calibrate.prep import register as aiaprep  # sunpy.instr.aia.aiaprep was moved to aiapy\n",
    "from sunpy.net import Fido, attrs as a\n",
    "from astropy import units as u\n",
    "\n",
    "import glob\n",
    "import numpy as np\n",
    "\n",
    "import warnings\n",
    "warnings.filterwarnings(\"ignore\")"
   ]
  },
  {
   "cell_type": "raw",
   "id": "b85428e2-6d9c-478b-939f-ac1c5af30b7d",
   "metadata": {},
   "source": [
    "1- creat a list of time range( start - endTime)\n",
    "2- for loop then Fido.\n",
    "3- raed from excel sheet"
   ]
  },
  {
   "cell_type": "code",
   "execution_count": null,
   "id": "ac3be4d0-e850-4cbe-ace4-70e3f7a462b5",
   "metadata": {},
   "outputs": [],
   "source": [
    "# t = a.Time('2014-04-18T18:19:04', '2014-04-18T19:15:54')\n",
    "# folder = '/Users/delbe/OneDrive - FHNW/aia_data/2014_12_04T18_19_04'"
   ]
  },
  {
   "cell_type": "code",
   "execution_count": null,
   "id": "a720256e-ce7d-4489-9584-298f254d041b",
   "metadata": {},
   "outputs": [],
   "source": [
    "# search for aia sources\n",
    "# result = Fido.search(t, a.Instrument(\"aia\"), a.Wavelength(304*u.angstrom), a.Sample(1*u.second))"
   ]
  },
  {
   "cell_type": "code",
   "execution_count": null,
   "id": "0fe0862e-9753-4567-b1d8-900b08161c79",
   "metadata": {},
   "outputs": [],
   "source": [
    "# Fido.fetch(result, path=folder)"
   ]
  },
  {
   "cell_type": "code",
   "execution_count": null,
   "id": "b9d5fd53-e20b-4148-a3ef-5056a22a35be",
   "metadata": {
    "tags": []
   },
   "outputs": [
    {
     "data": {
      "application/vnd.jupyter.widget-view+json": {
       "model_id": "29b788db0e2c4fb5ace5256051c304d0",
       "version_major": 2,
       "version_minor": 0
      },
      "text/plain": [
       "Files Downloaded:   0%|          | 0/575 [00:00<?, ?file/s]"
      ]
     },
     "metadata": {},
     "output_type": "display_data"
    },
    {
     "data": {
      "application/vnd.jupyter.widget-view+json": {
       "model_id": "",
       "version_major": 2,
       "version_minor": 0
      },
      "text/plain": [
       "aia_lev1_171a_2013_10_23t15_06_59_34z_image_lev1.fits:   0%|          | 0.00/12.4M [00:00<?, ?B/s]"
      ]
     },
     "metadata": {},
     "output_type": "display_data"
    },
    {
     "data": {
      "application/vnd.jupyter.widget-view+json": {
       "model_id": "",
       "version_major": 2,
       "version_minor": 0
      },
      "text/plain": [
       "aia_lev1_171a_2013_10_23t15_09_47_34z_image_lev1.fits:   0%|          | 0.00/12.4M [00:00<?, ?B/s]"
      ]
     },
     "metadata": {},
     "output_type": "display_data"
    },
    {
     "data": {
      "application/vnd.jupyter.widget-view+json": {
       "model_id": "",
       "version_major": 2,
       "version_minor": 0
      },
      "text/plain": [
       "aia_lev1_171a_2013_10_23t15_16_23_34z_image_lev1.fits:   0%|          | 0.00/12.4M [00:00<?, ?B/s]"
      ]
     },
     "metadata": {},
     "output_type": "display_data"
    },
    {
     "data": {
      "application/vnd.jupyter.widget-view+json": {
       "model_id": "",
       "version_major": 2,
       "version_minor": 0
      },
      "text/plain": [
       "aia_lev1_171a_2013_10_23t15_43_01_30z_image_lev1.fits:   0%|          | 0.00/10.5M [00:00<?, ?B/s]"
      ]
     },
     "metadata": {},
     "output_type": "display_data"
    },
    {
     "data": {
      "application/vnd.jupyter.widget-view+json": {
       "model_id": "",
       "version_major": 2,
       "version_minor": 0
      },
      "text/plain": [
       "aia_lev1_171a_2013_10_23t15_45_11_34z_image_lev1.fits:   0%|          | 0.00/12.4M [00:00<?, ?B/s]"
      ]
     },
     "metadata": {},
     "output_type": "display_data"
    },
    {
     "data": {
      "application/vnd.jupyter.widget-view+json": {
       "model_id": "",
       "version_major": 2,
       "version_minor": 0
      },
      "text/plain": [
       "aia_lev1_171a_2013_10_23t15_47_35_34z_image_lev1.fits:   0%|          | 0.00/12.4M [00:00<?, ?B/s]"
      ]
     },
     "metadata": {},
     "output_type": "display_data"
    },
    {
     "data": {
      "application/vnd.jupyter.widget-view+json": {
       "model_id": "",
       "version_major": 2,
       "version_minor": 0
      },
      "text/plain": [
       "aia_lev1_171a_2013_10_23t15_59_23_34z_image_lev1.fits:   0%|          | 0.00/12.4M [00:00<?, ?B/s]"
      ]
     },
     "metadata": {},
     "output_type": "display_data"
    },
    {
     "data": {
      "application/vnd.jupyter.widget-view+json": {
       "model_id": "",
       "version_major": 2,
       "version_minor": 0
      },
      "text/plain": [
       "aia_lev1_171a_2013_10_23t15_46_35_34z_image_lev1.fits:   0%|          | 0.00/12.4M [00:00<?, ?B/s]"
      ]
     },
     "metadata": {},
     "output_type": "display_data"
    },
    {
     "data": {
      "application/vnd.jupyter.widget-view+json": {
       "model_id": "",
       "version_major": 2,
       "version_minor": 0
      },
      "text/plain": [
       "aia_lev1_171a_2013_10_23t16_00_23_34z_image_lev1.fits:   0%|          | 0.00/12.4M [00:00<?, ?B/s]"
      ]
     },
     "metadata": {},
     "output_type": "display_data"
    },
    {
     "data": {
      "application/vnd.jupyter.widget-view+json": {
       "model_id": "",
       "version_major": 2,
       "version_minor": 0
      },
      "text/plain": [
       "aia_lev1_171a_2013_10_23t16_03_59_34z_image_lev1.fits:   0%|          | 0.00/12.4M [00:00<?, ?B/s]"
      ]
     },
     "metadata": {},
     "output_type": "display_data"
    },
    {
     "data": {
      "application/vnd.jupyter.widget-view+json": {
       "model_id": "",
       "version_major": 2,
       "version_minor": 0
      },
      "text/plain": [
       "aia_lev1_171a_2013_10_23t16_05_47_34z_image_lev1.fits:   0%|          | 0.00/12.4M [00:00<?, ?B/s]"
      ]
     },
     "metadata": {},
     "output_type": "display_data"
    },
    {
     "data": {
      "application/vnd.jupyter.widget-view+json": {
       "model_id": "",
       "version_major": 2,
       "version_minor": 0
      },
      "text/plain": [
       "aia_lev1_171a_2013_10_23t16_08_23_34z_image_lev1.fits:   0%|          | 0.00/12.4M [00:00<?, ?B/s]"
      ]
     },
     "metadata": {},
     "output_type": "display_data"
    },
    {
     "data": {
      "application/vnd.jupyter.widget-view+json": {
       "model_id": "",
       "version_major": 2,
       "version_minor": 0
      },
      "text/plain": [
       "aia_lev1_171a_2013_10_23t16_09_59_34z_image_lev1.fits:   0%|          | 0.00/12.4M [00:00<?, ?B/s]"
      ]
     },
     "metadata": {},
     "output_type": "display_data"
    },
    {
     "data": {
      "application/vnd.jupyter.widget-view+json": {
       "model_id": "",
       "version_major": 2,
       "version_minor": 0
      },
      "text/plain": [
       "aia_lev1_171a_2013_10_23t16_10_35_34z_image_lev1.fits:   0%|          | 0.00/12.4M [00:00<?, ?B/s]"
      ]
     },
     "metadata": {},
     "output_type": "display_data"
    },
    {
     "data": {
      "application/vnd.jupyter.widget-view+json": {
       "model_id": "",
       "version_major": 2,
       "version_minor": 0
      },
      "text/plain": [
       "aia_lev1_171a_2013_10_23t16_11_59_34z_image_lev1.fits:   0%|          | 0.00/12.4M [00:00<?, ?B/s]"
      ]
     },
     "metadata": {},
     "output_type": "display_data"
    },
    {
     "data": {
      "application/vnd.jupyter.widget-view+json": {
       "model_id": "",
       "version_major": 2,
       "version_minor": 0
      },
      "text/plain": [
       "aia_lev1_171a_2013_10_23t16_14_59_34z_image_lev1.fits:   0%|          | 0.00/12.4M [00:00<?, ?B/s]"
      ]
     },
     "metadata": {},
     "output_type": "display_data"
    },
    {
     "data": {
      "application/vnd.jupyter.widget-view+json": {
       "model_id": "",
       "version_major": 2,
       "version_minor": 0
      },
      "text/plain": [
       "aia_lev1_171a_2013_10_23t16_16_35_34z_image_lev1.fits:   0%|          | 0.00/12.4M [00:00<?, ?B/s]"
      ]
     },
     "metadata": {},
     "output_type": "display_data"
    },
    {
     "data": {
      "application/vnd.jupyter.widget-view+json": {
       "model_id": "",
       "version_major": 2,
       "version_minor": 0
      },
      "text/plain": [
       "aia_lev1_171a_2013_10_23t16_18_59_34z_image_lev1.fits:   0%|          | 0.00/12.4M [00:00<?, ?B/s]"
      ]
     },
     "metadata": {},
     "output_type": "display_data"
    },
    {
     "data": {
      "application/vnd.jupyter.widget-view+json": {
       "model_id": "",
       "version_major": 2,
       "version_minor": 0
      },
      "text/plain": [
       "aia_lev1_171a_2013_10_23t16_19_23_34z_image_lev1.fits:   0%|          | 0.00/12.4M [00:00<?, ?B/s]"
      ]
     },
     "metadata": {},
     "output_type": "display_data"
    },
    {
     "data": {
      "application/vnd.jupyter.widget-view+json": {
       "model_id": "",
       "version_major": 2,
       "version_minor": 0
      },
      "text/plain": [
       "aia_lev1_171a_2013_10_23t16_20_59_34z_image_lev1.fits:   0%|          | 0.00/12.4M [00:00<?, ?B/s]"
      ]
     },
     "metadata": {},
     "output_type": "display_data"
    },
    {
     "name": "stdout",
     "output_type": "stream",
     "text": [
      "* "
     ]
    },
    {
     "data": {
      "application/vnd.jupyter.widget-view+json": {
       "model_id": "078ec20e6670485aa275d8e5b34d8e48",
       "version_major": 2,
       "version_minor": 0
      },
      "text/plain": [
       "Files Downloaded:   0%|          | 0/1422 [00:00<?, ?file/s]"
      ]
     },
     "metadata": {},
     "output_type": "display_data"
    },
    {
     "data": {
      "application/vnd.jupyter.widget-view+json": {
       "model_id": "24ec0129a0fb49b2b783467dbc827842",
       "version_major": 2,
       "version_minor": 0
      },
      "text/plain": [
       "aia_lev1_171a_2014_04_18t12_34_23_34z_image_lev1.fits:   0%|          | 0.00/12.5M [00:00<?, ?B/s]"
      ]
     },
     "metadata": {},
     "output_type": "display_data"
    },
    {
     "data": {
      "application/vnd.jupyter.widget-view+json": {
       "model_id": "46b7a51c64bd47c2b01b20c2981c1e2e",
       "version_major": 2,
       "version_minor": 0
      },
      "text/plain": [
       "aia_lev1_171a_2014_04_18t12_34_35_35z_image_lev1.fits:   0%|          | 0.00/12.5M [00:00<?, ?B/s]"
      ]
     },
     "metadata": {},
     "output_type": "display_data"
    },
    {
     "data": {
      "application/vnd.jupyter.widget-view+json": {
       "model_id": "7f88876ac1f24409b65ed65c8adecc5f",
       "version_major": 2,
       "version_minor": 0
      },
      "text/plain": [
       "aia_lev1_171a_2014_04_18t12_35_35_34z_image_lev1.fits:   0%|          | 0.00/12.5M [00:00<?, ?B/s]"
      ]
     },
     "metadata": {},
     "output_type": "display_data"
    },
    {
     "data": {
      "application/vnd.jupyter.widget-view+json": {
       "model_id": "",
       "version_major": 2,
       "version_minor": 0
      },
      "text/plain": [
       "aia_lev1_171a_2014_04_18t12_36_36_95z_image_lev1.fits:   0%|          | 0.00/11.1M [00:00<?, ?B/s]"
      ]
     },
     "metadata": {},
     "output_type": "display_data"
    },
    {
     "data": {
      "application/vnd.jupyter.widget-view+json": {
       "model_id": "",
       "version_major": 2,
       "version_minor": 0
      },
      "text/plain": [
       "aia_lev1_171a_2014_04_18t12_41_23_34z_image_lev1.fits:   0%|          | 0.00/12.5M [00:00<?, ?B/s]"
      ]
     },
     "metadata": {},
     "output_type": "display_data"
    },
    {
     "data": {
      "application/vnd.jupyter.widget-view+json": {
       "model_id": "",
       "version_major": 2,
       "version_minor": 0
      },
      "text/plain": [
       "aia_lev1_171a_2014_04_18t12_45_01_43z_image_lev1.fits:   0%|          | 0.00/10.4M [00:00<?, ?B/s]"
      ]
     },
     "metadata": {},
     "output_type": "display_data"
    },
    {
     "data": {
      "application/vnd.jupyter.widget-view+json": {
       "model_id": "77ad7c102bd7495dad9b736b8f1e6cd2",
       "version_major": 2,
       "version_minor": 0
      },
      "text/plain": [
       "aia_lev1_171a_2014_04_18t12_50_13_89z_image_lev1.fits:   0%|          | 0.00/8.94M [00:00<?, ?B/s]"
      ]
     },
     "metadata": {},
     "output_type": "display_data"
    },
    {
     "data": {
      "application/vnd.jupyter.widget-view+json": {
       "model_id": "25a5167d45fc4981b0b2dca644bb075f",
       "version_major": 2,
       "version_minor": 0
      },
      "text/plain": [
       "aia_lev1_171a_2014_04_18t12_50_23_34z_image_lev1.fits:   0%|          | 0.00/12.5M [00:00<?, ?B/s]"
      ]
     },
     "metadata": {},
     "output_type": "display_data"
    }
   ],
   "source": [
    "import pandas as pd\n",
    "\n",
    "df = pd.read_excel('IRIS_AIA.xlsx' , sheet_name='Tabelle2')\n",
    "\n",
    "folder = '/Users/delbe/OneDrive - FHNW/aia_171/'\n",
    "\n",
    "for label, row in df.iterrows():\n",
    "    start_time = row[5]\n",
    "    end_time = row[6]\n",
    "\n",
    "    t = a.Time(start_time, end_time)\n",
    "    result = Fido.search(t, a.Instrument(\"aia\"), a.Wavelength(171*u.angstrom), a.Sample(1*u.second))\n",
    "    Fido.fetch(result, path=folder+row[0])\n",
    "    \n",
    "    print(\"*\" , end = ' ') "
   ]
  },
  {
   "cell_type": "code",
   "execution_count": null,
   "id": "44cdbcd1-2a4d-4b93-ae89-6e7e5f6d94cd",
   "metadata": {},
   "outputs": [],
   "source": []
  }
 ],
 "metadata": {
  "kernelspec": {
   "display_name": "Python 3 (ipykernel)",
   "language": "python",
   "name": "python3"
  },
  "language_info": {
   "codemirror_mode": {
    "name": "ipython",
    "version": 3
   },
   "file_extension": ".py",
   "mimetype": "text/x-python",
   "name": "python",
   "nbconvert_exporter": "python",
   "pygments_lexer": "ipython3",
   "version": "3.9.13"
  }
 },
 "nbformat": 4,
 "nbformat_minor": 5
}
