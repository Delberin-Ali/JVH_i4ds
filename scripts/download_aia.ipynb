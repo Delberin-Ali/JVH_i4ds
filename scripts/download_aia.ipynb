{
 "cells": [
  {
   "cell_type": "code",
   "execution_count": 1,
   "id": "f112a889-afbc-4b09-96da-8ce85f85b784",
   "metadata": {},
   "outputs": [],
   "source": [
    "%matplotlib inline\n",
    "from matplotlib import pyplot as plt\n",
    "\n",
    "import sunpy.map\n",
    "from aiapy.calibrate.prep import register as aiaprep  # sunpy.instr.aia.aiaprep was moved to aiapy\n",
    "from sunpy.net import Fido, attrs as a\n",
    "from astropy import units as u\n",
    "\n",
    "import glob\n",
    "import numpy as np\n",
    "\n",
    "import warnings\n",
    "warnings.filterwarnings(\"ignore\")"
   ]
  },
  {
   "cell_type": "raw",
   "id": "b85428e2-6d9c-478b-939f-ac1c5af30b7d",
   "metadata": {},
   "source": [
    "1- creat a list of time range( start - endTime)\n",
    "2- for loop then Fido.\n",
    "3- raed from excel sheet"
   ]
  },
  {
   "cell_type": "code",
   "execution_count": null,
   "id": "ac3be4d0-e850-4cbe-ace4-70e3f7a462b5",
   "metadata": {},
   "outputs": [],
   "source": [
    "# t = a.Time('2014-04-18T18:19:04', '2014-04-18T19:15:54')\n",
    "# folder = '/Users/delbe/OneDrive - FHNW/aia_data/2014_12_04T18_19_04'"
   ]
  },
  {
   "cell_type": "code",
   "execution_count": null,
   "id": "a720256e-ce7d-4489-9584-298f254d041b",
   "metadata": {},
   "outputs": [],
   "source": [
    "# search for aia sources\n",
    "# result = Fido.search(t, a.Instrument(\"aia\"), a.Wavelength(304*u.angstrom), a.Sample(1*u.second))"
   ]
  },
  {
   "cell_type": "code",
   "execution_count": null,
   "id": "0fe0862e-9753-4567-b1d8-900b08161c79",
   "metadata": {},
   "outputs": [],
   "source": [
    "# Fido.fetch(result, path=folder)"
   ]
  },
  {
   "cell_type": "code",
   "execution_count": null,
   "id": "b9d5fd53-e20b-4148-a3ef-5056a22a35be",
   "metadata": {
    "tags": []
   },
   "outputs": [
    {
     "data": {
      "application/vnd.jupyter.widget-view+json": {
       "model_id": "29b788db0e2c4fb5ace5256051c304d0",
       "version_major": 2,
       "version_minor": 0
      },
      "text/plain": [
       "Files Downloaded:   0%|          | 0/575 [00:00<?, ?file/s]"
      ]
     },
     "metadata": {},
     "output_type": "display_data"
    }
   ],
   "source": [
    "import pandas as pd\n",
    "\n",
    "df = pd.read_excel('IRIS_AIA.xlsx' , sheet_name='Tabelle2')\n",
    "\n",
    "folder = '/Users/delbe/OneDrive - FHNW/aia_171/'\n",
    "\n",
    "for label, row in df.iterrows():\n",
    "    start_time = row[5]\n",
    "    end_time = row[6]\n",
    "\n",
    "    t = a.Time(start_time, end_time)\n",
    "    result = Fido.search(t, a.Instrument(\"aia\"), a.Wavelength(171*u.angstrom), a.Sample(1*u.second))\n",
    "    Fido.fetch(result, path=folder+row[0])\n",
    "    \n",
    "    print(\"*\" , end = ' ') "
   ]
  },
  {
   "cell_type": "code",
   "execution_count": null,
   "id": "44cdbcd1-2a4d-4b93-ae89-6e7e5f6d94cd",
   "metadata": {},
   "outputs": [],
   "source": []
  }
 ],
 "metadata": {
  "kernelspec": {
   "display_name": "Python 3 (ipykernel)",
   "language": "python",
   "name": "python3"
  },
  "language_info": {
   "codemirror_mode": {
    "name": "ipython",
    "version": 3
   },
   "file_extension": ".py",
   "mimetype": "text/x-python",
   "name": "python",
   "nbconvert_exporter": "python",
   "pygments_lexer": "ipython3",
   "version": "3.9.13"
  }
 },
 "nbformat": 4,
 "nbformat_minor": 5
}
