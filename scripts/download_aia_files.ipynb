{
 "cells": [
  {
   "cell_type": "code",
   "execution_count": 1,
   "id": "d1eb412a-6579-4b6b-9ea8-e367ad6465a5",
   "metadata": {},
   "outputs": [],
   "source": [
    "%matplotlib inline\n",
    "from matplotlib import pyplot as plt\n",
    "\n",
    "import sunpy.map\n",
    "from aiapy.calibrate.prep import register as aiaprep  # sunpy.instr.aia.aiaprep was moved to aiapy\n",
    "from sunpy.net import Fido, attrs as a\n",
    "from astropy import units as u\n",
    "\n",
    "import glob\n",
    "import numpy as np\n",
    "\n",
    "import warnings\n",
    "warnings.filterwarnings(\"ignore\")"
   ]
  },
  {
   "cell_type": "code",
   "execution_count": 4,
   "id": "fb4cfd83-cb3c-408a-80f7-5319450a6cdc",
   "metadata": {},
   "outputs": [
    {
     "name": "stdout",
     "output_type": "stream",
     "text": [
      "20150204_025232_3800600036\n"
     ]
    },
    {
     "data": {
      "application/vnd.jupyter.widget-view+json": {
       "model_id": "49f94407851647969aff0f9ba944b4bd",
       "version_major": 2,
       "version_minor": 0
      },
      "text/plain": [
       "Files Downloaded:   0%|          | 0/283 [00:00<?, ?file/s]"
      ]
     },
     "metadata": {},
     "output_type": "display_data"
    },
    {
     "data": {
      "application/vnd.jupyter.widget-view+json": {
       "model_id": "a3d8a89bec84495da3195afb384987ae",
       "version_major": 2,
       "version_minor": 0
      },
      "text/plain": [
       "aia_lev1_304a_2015_02_04t03_37_43_12z_image_lev1.fits:   0%|          | 0.00/8.28M [00:00<?, ?B/s]"
      ]
     },
     "metadata": {},
     "output_type": "display_data"
    },
    {
     "name": "stdout",
     "output_type": "stream",
     "text": [
      "* "
     ]
    }
   ],
   "source": [
    "import pandas as pd\n",
    "\n",
    "df = pd.read_excel('IRIS_AIA.xlsx' , sheet_name='Tabelle3')\n",
    "\n",
    "folder = '/Users/delbe/OneDrive - FHNW/aia_304/'\n",
    "\n",
    "for label, row in df.iterrows():\n",
    "    print(row[0])\n",
    "    start_time = row[5]\n",
    "    end_time = row[6]\n",
    "\n",
    "    t = a.Time(start_time, end_time)\n",
    "    result = Fido.search(t, a.Instrument(\"aia\"), a.Wavelength(304*u.angstrom), a.Sample(1*u.second))\n",
    "    Fido.fetch(result, path=folder+row[0])\n",
    "    \n",
    "    print(\"*\" , end = ' ') "
   ]
  },
  {
   "cell_type": "code",
   "execution_count": null,
   "id": "aeacb775-7436-4a5b-9058-c064c2748111",
   "metadata": {},
   "outputs": [],
   "source": []
  }
 ],
 "metadata": {
  "kernelspec": {
   "display_name": "Python 3 (ipykernel)",
   "language": "python",
   "name": "python3"
  },
  "language_info": {
   "codemirror_mode": {
    "name": "ipython",
    "version": 3
   },
   "file_extension": ".py",
   "mimetype": "text/x-python",
   "name": "python",
   "nbconvert_exporter": "python",
   "pygments_lexer": "ipython3",
   "version": "3.9.13"
  }
 },
 "nbformat": 4,
 "nbformat_minor": 5
}
