{
 "cells": [
  {
   "cell_type": "markdown",
   "id": "531aa4ca-1f3f-47f7-a6da-552731387356",
   "metadata": {},
   "source": [
    "https://tiagopereira.space/ast2210_h19/IRIS/"
   ]
  },
  {
   "cell_type": "code",
   "execution_count": 1,
   "id": "ccc15bce-1ba4-49eb-b0af-6895e319cd6e",
   "metadata": {},
   "outputs": [],
   "source": [
    "%matplotlib inline\n",
    "from matplotlib import pyplot as plt\n",
    "\n",
    "import sunpy.map\n",
    "from aiapy.calibrate.prep import register as aiaprep  # sunpy.instr.aia.aiaprep was moved to aiapy\n",
    "from sunpy.net import Fido, attrs as a\n",
    "from astropy import units as u\n",
    "from sunpy.coordinates import frames \n",
    "from astropy.wcs import WCS\n",
    "import math\n",
    "from math import radians, cos, sin, asin, acos, sqrt, pi,atan2\n",
    "import glob\n",
    "import numpy as np\n",
    "from astropy.io import fits\n",
    "\n",
    "import warnings\n",
    "warnings.filterwarnings(\"ignore\")"
   ]
  },
  {
   "cell_type": "code",
   "execution_count": 2,
   "id": "51679091-5473-41a6-a3be-4ed537627aea",
   "metadata": {},
   "outputs": [
    {
     "name": "stdout",
     "output_type": "stream",
     "text": [
      "Point_1: (222.18372166622478, 19.131953402226895)\n",
      "Point_2:(221.9409037470422, 11.82762563413252)\n"
     ]
    }
   ],
   "source": [
    "file_name = \"../20140709_041000_3820256490/aia_lev1_304a_2014_07_09t04_10_09_94z_image_lev1.fits\"\n",
    "\n",
    "mc= sunpy.map.Map(file_name)\n",
    "\n",
    "hdulist = fits.open(file_name)  \n",
    "hdu = hdulist[1]  \n",
    "wcs = WCS(hdu.header)  \n",
    "\n",
    "\n",
    "x1_w = 2306\n",
    "y1_w = 2460\n",
    "x2_w = 2309\n",
    "y2_w = 2263\n",
    "\n",
    "\n",
    "\n",
    "coord1 =  wcs.pixel_to_world(x1_w*u.m, y1_w*u.m)\n",
    "coord2 = wcs.pixel_to_world(x2_w*u.m, y2_w*u.m)\n",
    "\n",
    "\n",
    "p1 = coord1.transform_to(frames.HeliographicCarrington)\n",
    "p2 = coord2.transform_to(frames.HeliographicCarrington)\n",
    "\n",
    "\n",
    "lon_1 = p1.lon.deg\n",
    "lat_1 = p1.lat.deg\n",
    "print(f\"Point_1: {lon_1, lat_1}\")\n",
    "\n",
    "lon_2 = p2.lon.deg\n",
    "lat_2 = p2.lat.deg\n",
    "print(f\"Point_2:{lon_2, lat_2}\")"
   ]
  },
  {
   "cell_type": "code",
   "execution_count": 3,
   "id": "7d73f74c-ea45-4859-b5d0-89262ac4cebf",
   "metadata": {},
   "outputs": [
    {
     "data": {
      "text/plain": [
       "'The distance : 7.308362654222265'"
      ]
     },
     "execution_count": 3,
     "metadata": {},
     "output_type": "execute_result"
    }
   ],
   "source": [
    "### Method 1 \n",
    "\n",
    "def calculate_distance(x1,y1,x2,y2):\n",
    "    dist = math.sqrt((x2 - x1)**2 + (y2 - y1)**2)\n",
    "    return f\"The distance : {dist}\"\n",
    "\n",
    "\n",
    "calculate_distance(lon_1, lat_1, lon_2, lat_2)"
   ]
  },
  {
   "cell_type": "code",
   "execution_count": 4,
   "id": "bcd98d3c-0e12-4f7e-8700-1763981e564a",
   "metadata": {},
   "outputs": [
    {
     "data": {
      "text/plain": [
       "727279.1839784085"
      ]
     },
     "execution_count": 4,
     "metadata": {},
     "output_type": "execute_result"
    }
   ],
   "source": [
    "# Method 2 \n",
    "\n",
    "def get_distance(x1,y1,x2,y2):\n",
    "    R = 695700 # radios of the sun in Km \n",
    "    dlon = x2 - x1\n",
    "    dlat = y2- y1\n",
    "\n",
    "    a = sin(dlat / 2)**2 + cos(y1) * cos(y2) * sin(dlon / 2)**2\n",
    "    c = 2 * atan2(sqrt(a), sqrt(1-a))\n",
    "    distance = R * c\n",
    "    return distance\n",
    "\n",
    "get_distance(lon_1, lat_1, lon_2, lat_2)"
   ]
  },
  {
   "cell_type": "code",
   "execution_count": null,
   "id": "af8f4a9f-83e1-4196-b5ff-4b35e5c2df6c",
   "metadata": {},
   "outputs": [],
   "source": [
    "# WCS : World Coordintes system \n",
    "\n",
    "# def find_wcs(img, hduid=1):\n",
    "#     # from http://astropy.readthedocs.org/en/latest/wcs/\n",
    "#     hdu = fits.open(img)\n",
    "#     w = WCS(hdu[hduid].header)\n",
    "#     lon, lat = w.wcs_pix2world(1938., 1957., 1) # \n",
    "#     print(lon, lat)\n",
    "    \n",
    "\n",
    "# find_wcs(file_name)"
   ]
  },
  {
   "cell_type": "code",
   "execution_count": null,
   "id": "ca717995-d2c9-4a60-9811-d2613c31020b",
   "metadata": {},
   "outputs": [],
   "source": [
    "# def get_distance(point1, point2):\n",
    "#     R = 6370\n",
    "#     lat1 = radians(point1[0])  #insert value\n",
    "#     lon1 = radians(point1[1])\n",
    "#     lat2 = radians(point2[0])\n",
    "#     lon2 = radians(point2[1])\n",
    "\n",
    "#     dlon = lon2 - lon1\n",
    "#     dlat = lat2- lat1\n",
    "\n",
    "#     a = sin(dlat / 2)**2 + cos(lat1) * cos(lat2) * sin(dlon / 2)**2\n",
    "#     c = 2 * atan2(sqrt(a), sqrt(1-a))\n",
    "#     distance = R * c\n",
    "#     return distance\n",
    "\n",
    "\n",
    "# get_distance(coord1, coord2)"
   ]
  },
  {
   "cell_type": "code",
   "execution_count": null,
   "id": "ea1fcd7c-5ef6-4b61-bb5c-ea53c436ba1c",
   "metadata": {},
   "outputs": [],
   "source": [
    "# p1 = (1938, 1957)\n",
    "# p2= (2070, 1873)\n",
    "\n",
    "# def dist(p1, p2):\n",
    "#     return math.sqrt(((p1[0] - p2[0])**2) + ((p1[1] - p2[1])**2))\n",
    "\n",
    "\n",
    "# dist(p1, p2)"
   ]
  }
 ],
 "metadata": {
  "kernelspec": {
   "display_name": "Python 3 (ipykernel)",
   "language": "python",
   "name": "python3"
  },
  "language_info": {
   "codemirror_mode": {
    "name": "ipython",
    "version": 3
   },
   "file_extension": ".py",
   "mimetype": "text/x-python",
   "name": "python",
   "nbconvert_exporter": "python",
   "pygments_lexer": "ipython3",
   "version": "3.9.13"
  }
 },
 "nbformat": 4,
 "nbformat_minor": 5
}
